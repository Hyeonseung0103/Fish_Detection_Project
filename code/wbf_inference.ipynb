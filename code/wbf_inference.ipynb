{
 "cells": [
  {
   "cell_type": "code",
   "execution_count": 1,
   "id": "a4852fcf",
   "metadata": {},
   "outputs": [],
   "source": [
    "import numpy as np\n",
    "import pandas as pd\n",
    "import matplotlib.pyplot as plt\n",
    "from matplotlib import rc\n",
    "%matplotlib inline\n",
    "import cv2\n",
    "import os\n",
    "import json\n",
    "import random\n",
    "from tqdm import tqdm\n",
    "import shutil\n",
    "from ensemble_boxes import *\n",
    "import time"
   ]
  },
  {
   "cell_type": "code",
   "execution_count": 2,
   "id": "84b9ef83",
   "metadata": {},
   "outputs": [],
   "source": [
    "PROJECT_PATH = '...'\n",
    "DATA_PATH = '...'\n",
    "MODEL_PATH = '...'\n",
    "SUBMISSION_PATH = PROJECT_PATH + 'submission_files/'\n",
    "TEST_PATH1 = PROJECT_PATH + 'divided_test/test1/'\n",
    "TEST_PATH2 = PROJECT_PATH + 'divided_test/test2/'\n",
    "TEST_PATH3 = PROJECT_PATH + 'divided_test/test3/'"
   ]
  },
  {
   "cell_type": "code",
   "execution_count": 3,
   "id": "708a3a35",
   "metadata": {},
   "outputs": [],
   "source": [
    "# wbf에 사용할 모델들\n",
    "from ultralytics import YOLO\n",
    "model1 = YOLO(MODEL_PATH + 'yolo_aug_e60_best.pt') # best\n",
    "model2 = YOLO(MODEL_PATH + 'yolo_aug_e40_t0.62.pt') # second\n",
    "model3 = YOLO(MODEL_PATH + 'yolon_aug_v3_e100_best.pt') # v3 best\n",
    "model4 = YOLO(MODEL_PATH + 'yolon_aug_eq_e120_sgd_best.pt') # eq best\n",
    "models = [model1, model2, model3, model4]"
   ]
  },
  {
   "cell_type": "code",
   "execution_count": 5,
   "id": "d465ce95",
   "metadata": {},
   "outputs": [],
   "source": [
    "# 위의 모델들 결과 저장\n",
    "def make_ensemble_predictions(data, models, conf_list):\n",
    "    result = []\n",
    "    for i in range(len(models)): \n",
    "        outputs = models[i].predict(source = data, save = False, conf = conf_list[i], device = 'cuda')\n",
    "        result.append(outputs)\n",
    "    return result"
   ]
  },
  {
   "cell_type": "code",
   "execution_count": null,
   "id": "e03e3511",
   "metadata": {},
   "outputs": [],
   "source": [
    "# RAM 상의 이유로 테스트를 3개로 나눠서 진행\n",
    "start = time.time()\n",
    "results = make_ensemble_predictions(TEST_PATH1, models, conf_list = [0.75, 0.75, 0.75, 0.7])\n",
    "# results = make_ensemble_predictions(TEST_PATH2, models, conf_list = [0.75, 0.75, 0.75, 0.7])\n",
    "# results = make_ensemble_predictions(TEST_PATH3, models, conf_list = [0.75, 0.75, 0.75, 0.7])\n",
    "print((time.time() - start) / 60)"
   ]
  },
  {
   "cell_type": "code",
   "execution_count": 7,
   "id": "63f371e1",
   "metadata": {},
   "outputs": [],
   "source": [
    "# wbf\n",
    "def wbf(predictions, weights, iou_thr = 0.6, skip_box_thr = 0.7):\n",
    "    boxes_list = []\n",
    "    scores_list = []\n",
    "    labels_list = []\n",
    "\n",
    "    for i in range(len(predictions[0])): # 이미지 수만큼\n",
    "        box_list = []\n",
    "        score_list = []\n",
    "        label_list = []\n",
    "        for pred in predictions:\n",
    "            box_list.append(pred[i].boxes.xyxyn.tolist()) # box 결과 저장\n",
    "            score_list.append(pred[i].boxes.conf.tolist()) # confidence score 결과 저장\n",
    "            label_list.append(list(np.array(pred[i].boxes.cls.tolist(), dtype=int))) # 라벨 결과 저장\n",
    "\n",
    "        boxes, scores, labels = weighted_boxes_fusion(box_list, score_list, label_list,\n",
    "                                    weights=weights, iou_thr=iou_thr, skip_box_thr=skip_box_thr)\n",
    "        boxes_list.append(boxes)\n",
    "        scores_list.append(scores)\n",
    "        labels_list.append(labels)\n",
    "\n",
    "    for box in boxes_list:\n",
    "        for i in range(len(box)): \n",
    "            # 0과 1사이로 정규화되어 있기때문에 원본 크기로 복원\n",
    "            box[i][0] = box[i][0] * 640\n",
    "            box[i][1] = box[i][1] * 480\n",
    "            box[i][2] = box[i][2] * 640\n",
    "            box[i][3] = box[i][3] * 480\n",
    "\n",
    "            # xmax, xmin을 w,h 형태로 바꾸기\n",
    "            box[i][2] = box[i][2] - box[i][0]\n",
    "            box[i][3] = box[i][3] - box[i][1]\n",
    "\n",
    "    return boxes_list, score_list, labels_list\n"
   ]
  },
  {
   "cell_type": "code",
   "execution_count": 8,
   "id": "e608bf42",
   "metadata": {},
   "outputs": [
    {
     "name": "stdout",
     "output_type": "stream",
     "text": [
      "14982 14982\n"
     ]
    }
   ],
   "source": [
    "boxes_list, _, labels_list = wbf(results, weights = [2, 2, 1, 1], iou_thr = 0.6, skip_box_thr = 0.81)\n",
    "print(len(boxes_list), len(labels_list))"
   ]
  },
  {
   "cell_type": "code",
   "execution_count": 9,
   "id": "47676ad2",
   "metadata": {},
   "outputs": [
    {
     "data": {
      "text/plain": [
       "0"
      ]
     },
     "execution_count": 9,
     "metadata": {},
     "output_type": "execute_result"
    }
   ],
   "source": [
    "img_id_dict = dict()\n",
    "\n",
    "with open(PROJECT_PATH + 'test.json', \"r\") as f:\n",
    "    label_coco = json.load(f)\n",
    "\n",
    "for val in label_coco['images']:\n",
    "    img_id_dict[val['file_name']] = val['id']\n",
    "\n",
    "img_id_dict['test_0.png']"
   ]
  },
  {
   "cell_type": "code",
   "execution_count": 10,
   "id": "196ce10b",
   "metadata": {},
   "outputs": [],
   "source": [
    "def make_submission_wbf(result, boxes_list, labels_list, file_name):\n",
    "  output = result.copy()\n",
    "  with open(PROJECT_PATH + 'test.json', 'r') as f:\n",
    "      lab = json.load(f)\n",
    "    \n",
    "  # 객체가 탐지된 이미지\n",
    "  cnt = 0\n",
    "  for box in boxes_list:\n",
    "      if len(box) != 0:\n",
    "          cnt +=1\n",
    "  print('탐지된 파일 수: ',cnt)\n",
    "\n",
    "  annot = []\n",
    "\n",
    "  for i in range(len(boxes_list)):\n",
    "      if len(boxes_list[i]) != 0:\n",
    "          for j in range(len(boxes_list[i])):\n",
    "            result_dict = dict()\n",
    "            result_dict['id'] = len(annot)\n",
    "            result_dict['image_id'] = img_id_dict[output[i].path.split('/')[-1]]\n",
    "            result_dict['category_id'] = int(labels_list[i][j])\n",
    "            result_dict['bbox'] = list(boxes_list[i][j])\n",
    "            result_dict['area'] = boxes_list[i][j][2] * boxes_list[i][j][3] # w * h\n",
    "            annot.append(result_dict)\n",
    "  \n",
    "  lab['annotations'] = annot\n",
    "  print('탐지된 객체 수: ', len(lab['annotations']))\n",
    "  display(lab['annotations'][:3])\n",
    "    \n",
    "  with open(f'{SUBMISSION_PATH}{file_name}', \"w\") as json_file:\n",
    "    json.dump(lab, json_file, ensure_ascii=False, indent=4)\n",
    "\n",
    "  return lab['annotations']"
   ]
  },
  {
   "cell_type": "code",
   "execution_count": 11,
   "id": "8b65f713",
   "metadata": {},
   "outputs": [
    {
     "name": "stdout",
     "output_type": "stream",
     "text": [
      "탐지된 파일 수:  1185\n",
      "탐지된 객체 수:  1262\n"
     ]
    },
    {
     "data": {
      "text/plain": [
       "[{'id': 0,\n",
       "  'image_id': 123482,\n",
       "  'category_id': 3,\n",
       "  'bbox': [106.43628120422363,\n",
       "   180.8892059326172,\n",
       "   283.46606254577637,\n",
       "   99.32742118835449],\n",
       "  'area': 28155.952987088767},\n",
       " {'id': 1,\n",
       "  'image_id': 123522,\n",
       "  'category_id': 4,\n",
       "  'bbox': [350.37330627441406,\n",
       "   299.72371101379395,\n",
       "   132.23289489746094,\n",
       "   76.64148330688477],\n",
       "  'area': 10134.5252069048},\n",
       " {'id': 2,\n",
       "  'image_id': 123595,\n",
       "  'category_id': 3,\n",
       "  'bbox': [212.28622436523438,\n",
       "   205.99611282348633,\n",
       "   238.98834228515625,\n",
       "   90.61952590942383],\n",
       "  'area': 21657.010275759967}]"
      ]
     },
     "metadata": {},
     "output_type": "display_data"
    }
   ],
   "source": [
    "# ann = make_submission_wbf(results[0], boxes_list, labels_list, 'yolov8n_wbf_best4_1_v6.json')\n",
    "# ann = make_submission_wbf(results[0], boxes_list, labels_list, 'yolov8n_wbf_best4_2_v6.json')\n",
    "ann = make_submission_wbf(results[0], boxes_list, labels_list, 'yolov8n_wbf_best4_3_v6.json')"
   ]
  },
  {
   "cell_type": "code",
   "execution_count": 12,
   "id": "a29af719",
   "metadata": {},
   "outputs": [
    {
     "name": "stdout",
     "output_type": "stream",
     "text": [
      "1023 1825 1262\n"
     ]
    }
   ],
   "source": [
    "with open(SUBMISSION_PATH + 'yolov8n_wbf_best4_1_v6.json', 'r') as f:\n",
    "    lab1 = json.load(f)\n",
    "\n",
    "with open(SUBMISSION_PATH + 'yolov8n_wbf_best4_2_v6.json', 'r') as f:\n",
    "    lab2 = json.load(f)\n",
    "    \n",
    "with open(SUBMISSION_PATH + 'yolov8n_wbf_best4_3_v6.json', 'r') as f:\n",
    "    lab3 = json.load(f)\n",
    "\n",
    "print(len(lab1['annotations']), len(lab2['annotations']), len(lab3['annotations']))"
   ]
  },
  {
   "cell_type": "code",
   "execution_count": 13,
   "id": "7c18686f",
   "metadata": {},
   "outputs": [
    {
     "name": "stdout",
     "output_type": "stream",
     "text": [
      "탐지한 전체 객체:  4110\n"
     ]
    },
    {
     "data": {
      "text/plain": [
       "[{'id': 4107,\n",
       "  'image_id': 33270,\n",
       "  'category_id': 3,\n",
       "  'bbox': [236.79275512695312,\n",
       "   338.80788803100586,\n",
       "   277.6530075073242,\n",
       "   89.33526992797852],\n",
       "  'area': 24804.206371981854},\n",
       " {'id': 4108,\n",
       "  'image_id': 289,\n",
       "  'category_id': 5,\n",
       "  'bbox': [249.9590301513672,\n",
       "   219.08798217773438,\n",
       "   389.8860168457031,\n",
       "   140.4356861114502],\n",
       "  'area': 54753.91028098675},\n",
       " {'id': 4109,\n",
       "  'image_id': 3227,\n",
       "  'category_id': 3,\n",
       "  'bbox': [0.0, 258.39929580688477, 543.4277725219727, 200.74029922485352],\n",
       "  'area': 109087.85366315642}]"
      ]
     },
     "metadata": {},
     "output_type": "display_data"
    }
   ],
   "source": [
    "concat_annot = lab1['annotations'] + lab2['annotations'] + lab3['annotations']\n",
    "\n",
    "for idx, val in enumerate(concat_annot):\n",
    "    val['id'] = idx # annotations id 0부터 다시 매기기\n",
    "\n",
    "lab1['annotations'] = concat_annot\n",
    "print('탐지한 전체 객체: ', len(lab1['annotations']))\n",
    "\n",
    "display(lab1['annotations'][-3:])"
   ]
  },
  {
   "cell_type": "code",
   "execution_count": 14,
   "id": "fb55212d",
   "metadata": {},
   "outputs": [],
   "source": [
    "with open(SUBMISSION_PATH + 'yolov8n_wbf_best4_v6.json', 'w') as f:\n",
    "    json.dump(lab1, f, ensure_ascii=False, indent=4)"
   ]
  }
 ],
 "metadata": {
  "kernelspec": {
   "display_name": "Python 3 (ipykernel)",
   "language": "python",
   "name": "python3"
  },
  "language_info": {
   "codemirror_mode": {
    "name": "ipython",
    "version": 3
   },
   "file_extension": ".py",
   "mimetype": "text/x-python",
   "name": "python",
   "nbconvert_exporter": "python",
   "pygments_lexer": "ipython3",
   "version": "3.8.15"
  }
 },
 "nbformat": 4,
 "nbformat_minor": 5
}
