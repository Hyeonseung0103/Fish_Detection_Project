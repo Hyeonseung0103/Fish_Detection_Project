{
 "cells": [
  {
   "cell_type": "code",
   "execution_count": 1,
   "id": "c2c34dee",
   "metadata": {},
   "outputs": [],
   "source": [
    "import numpy as np\n",
    "import pandas as pd\n",
    "import matplotlib.pyplot as plt\n",
    "from matplotlib import rc\n",
    "%matplotlib inline\n",
    "import cv2\n",
    "import os\n",
    "import json\n",
    "from tqdm import tqdm"
   ]
  },
  {
   "cell_type": "code",
   "execution_count": 2,
   "id": "5ecf3679",
   "metadata": {},
   "outputs": [],
   "source": [
    "PROJECT_PATH = '...'\n",
    "DATA_PATH = '...'\n",
    "MODEL_PATH = '...'\n",
    "SUBMIT_PATH = PROJECT_PATH + 'submission_files/'"
   ]
  },
  {
   "cell_type": "code",
   "execution_count": 3,
   "id": "c81c730f",
   "metadata": {},
   "outputs": [],
   "source": [
    "from ultralytics import YOLO\n",
    "\n",
    "model = YOLO(MODEL_PATH + 'yolon_aug_eq_e150_sgd_best.pt')"
   ]
  },
  {
   "cell_type": "code",
   "execution_count": null,
   "id": "698e483d",
   "metadata": {},
   "outputs": [],
   "source": [
    "import time\n",
    "start = time.time()\n",
    "results = model.predict(DATA_PATH, save = False, conf = 0.65, device = 1)\n",
    "print((time.time() - start) / 60)"
   ]
  },
  {
   "cell_type": "code",
   "execution_count": 5,
   "id": "1ddd7da8",
   "metadata": {},
   "outputs": [
    {
     "data": {
      "text/plain": [
       "0"
      ]
     },
     "execution_count": 5,
     "metadata": {},
     "output_type": "execute_result"
    }
   ],
   "source": [
    "img_id_dict = dict()\n",
    "\n",
    "with open(PROJECT_PATH + 'test.json', \"r\") as f:\n",
    "    label_coco = json.load(f)\n",
    "\n",
    "for val in label_coco['images']:\n",
    "    img_id_dict[val['file_name']] = val['id']\n",
    "\n",
    "img_id_dict['test_0.png']"
   ]
  },
  {
   "cell_type": "code",
   "execution_count": 6,
   "id": "759ef324",
   "metadata": {},
   "outputs": [],
   "source": [
    "# submission 파일 만들기\n",
    "def make_submission_yolo(result, file_name):\n",
    "  output = result.copy()\n",
    "  with open(PROJECT_PATH + 'test.json', 'r') as f:\n",
    "      lab = json.load(f)\n",
    "    \n",
    "  # 객체가 탐지된 이미지\n",
    "  cnt = 0\n",
    "  for pred in output:\n",
    "      if len(pred.boxes) != 0:\n",
    "          cnt +=1\n",
    "  print('탐지된 파일 수: ',cnt)\n",
    "\n",
    "  annot = []\n",
    "\n",
    "  for pred in tqdm(output):\n",
    "      if len(pred.boxes) != 0: # 객체가 존재할 때만\n",
    "        for i in range(len(pred.boxes)):\n",
    "            # if pred.boxes.xyxy[i].tolist()[0] > 0 and pred.boxes.xyxy[i].tolist()[1] > 0 and \\\n",
    "            # pred.boxes.xyxy[i].tolist()[0] < 640 and pred.boxes.xyxy[i].tolist()[1] < 480: # box가 이미지 범위를 넘어가면(물고기가 사진이 잘린 것)\n",
    "              result_dict = dict()\n",
    "              result_dict['id'] = len(annot)\n",
    "              result_dict['image_id'] = img_id_dict[pred.path.split('/')[-1]]\n",
    "              result_dict['category_id'] = int(pred.boxes.cls.tolist()[i])\n",
    "\n",
    "              #bbox\n",
    "              x = pred.boxes.xyxy[i].tolist()[0] # 여기 있는 x가 x0\n",
    "              y = pred.boxes.xyxy[i].tolist()[1] # y0\n",
    "              w = pred.boxes.xywh[i].tolist()[2] # w\n",
    "              h = pred.boxes.xywh[i].tolist()[3] # h\n",
    "\n",
    "              result_dict['bbox'] = [x,y,w,h]\n",
    "              result_dict['area'] = w * h\n",
    "              annot.append(result_dict)\n",
    "  \n",
    "  lab['annotations'] = annot\n",
    "  print('탐지된 객체 수: ', len(lab['annotations']))\n",
    "  print(lab['annotations'][:3])\n",
    "  cat_list = [x['category_id'] for x in lab['annotations']]\n",
    "  display(pd.Series(cat_list).value_counts().sort_values(ascending = False))\n",
    "\n",
    "  with open(f'{SUBMIT_PATH}{file_name}', \"w\") as json_file:\n",
    "    json.dump(lab, json_file, ensure_ascii=False, indent=4)\n",
    "\n",
    "  return lab['annotations']"
   ]
  },
  {
   "cell_type": "code",
   "execution_count": 7,
   "id": "7ddb6688",
   "metadata": {},
   "outputs": [
    {
     "name": "stdout",
     "output_type": "stream",
     "text": [
      "탐지된 파일 수:  3458\n"
     ]
    },
    {
     "name": "stderr",
     "output_type": "stream",
     "text": [
      "100%|████████████████████████████████████████████████████████████████████████████| 44946/44946 [00:00<00:00, 48777.22it/s]"
     ]
    },
    {
     "name": "stdout",
     "output_type": "stream",
     "text": [
      "탐지된 객체 수:  3691\n",
      "[{'id': 0, 'image_id': 0, 'category_id': 3, 'bbox': [108.0645751953125, 215.0891571044922, 351.44598388671875, 102.18836975097656], 'area': 35913.69214891177}, {'id': 1, 'image_id': 2, 'category_id': 3, 'bbox': [0.98358154296875, 218.93084716796875, 361.0084228515625, 112.9547119140625], 'area': 40777.6024017483}, {'id': 2, 'image_id': 293, 'category_id': 5, 'bbox': [90.670654296875, 266.48199462890625, 488.3497314453125, 135.1318359375], 'area': 65991.59578979015}]\n"
     ]
    },
    {
     "name": "stderr",
     "output_type": "stream",
     "text": [
      "\n"
     ]
    },
    {
     "data": {
      "text/plain": [
       "1    1410\n",
       "3    1181\n",
       "2     368\n",
       "7     361\n",
       "0     113\n",
       "5     112\n",
       "4      84\n",
       "6      62\n",
       "dtype: int64"
      ]
     },
     "metadata": {},
     "output_type": "display_data"
    }
   ],
   "source": [
    "ann = make_submission_yolo(results, 'yolon_aug_eq_e150_sgd_c65.json')"
   ]
  }
 ],
 "metadata": {
  "kernelspec": {
   "display_name": "Python 3 (ipykernel)",
   "language": "python",
   "name": "python3"
  },
  "language_info": {
   "codemirror_mode": {
    "name": "ipython",
    "version": 3
   },
   "file_extension": ".py",
   "mimetype": "text/x-python",
   "name": "python",
   "nbconvert_exporter": "python",
   "pygments_lexer": "ipython3",
   "version": "3.8.15"
  }
 },
 "nbformat": 4,
 "nbformat_minor": 5
}
