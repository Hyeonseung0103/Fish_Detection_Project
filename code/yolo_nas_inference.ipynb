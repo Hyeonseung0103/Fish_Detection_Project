{
 "cells": [
  {
   "cell_type": "code",
   "execution_count": 8,
   "metadata": {
    "_cell_guid": "b1076dfc-b9ad-4769-8c92-a6c4dae69d19",
    "_uuid": "8f2839f25d086af736a60e9eeb907d3b93b6e0e5",
    "execution": {
     "iopub.execute_input": "2023-11-07T10:41:57.950142Z",
     "iopub.status.busy": "2023-11-07T10:41:57.949550Z",
     "iopub.status.idle": "2023-11-07T10:41:59.742294Z",
     "shell.execute_reply": "2023-11-07T10:41:59.741289Z",
     "shell.execute_reply.started": "2023-11-07T10:41:57.950104Z"
    }
   },
   "outputs": [],
   "source": [
    "import numpy as np\n",
    "import pandas as pd\n",
    "import matplotlib.pyplot as plt\n",
    "from matplotlib import rc\n",
    "%matplotlib inline\n",
    "import cv2\n",
    "import os\n",
    "import json\n",
    "from tqdm import tqdm\n",
    "import torch"
   ]
  },
  {
   "cell_type": "code",
   "execution_count": 2,
   "metadata": {
    "execution": {
     "iopub.execute_input": "2023-11-07T10:41:59.743867Z",
     "iopub.status.busy": "2023-11-07T10:41:59.743458Z",
     "iopub.status.idle": "2023-11-07T10:41:59.766582Z",
     "shell.execute_reply": "2023-11-07T10:41:59.765610Z",
     "shell.execute_reply.started": "2023-11-07T10:41:59.743839Z"
    }
   },
   "outputs": [],
   "source": [
    "PROJECT_PATH = '...'\n",
    "DATA_PATH = '...'\n",
    "MODEL_PATH = '...'\n",
    "SUBMIT_PATH = PROJECT_PATH + 'submission_files/'"
   ]
  },
  {
   "cell_type": "code",
   "execution_count": 3,
   "metadata": {},
   "outputs": [
    {
     "name": "stdout",
     "output_type": "stream",
     "text": [
      "44946\n",
      "/home/mglee/utils/downloads/kw/test/test_0.png /home/mglee/utils/downloads/kw/test/test_9999.png\n"
     ]
    }
   ],
   "source": [
    "test_images = sorted([DATA_PATH + x for x in os.listdir(DATA_PATH)])\n",
    "print(len(test_images))\n",
    "print(test_images[0], test_images[-1])"
   ]
  },
  {
   "cell_type": "code",
   "execution_count": null,
   "metadata": {
    "execution": {
     "iopub.execute_input": "2023-11-07T10:42:01.503159Z",
     "iopub.status.busy": "2023-11-07T10:42:01.502816Z",
     "iopub.status.idle": "2023-11-07T10:42:14.875653Z",
     "shell.execute_reply": "2023-11-07T10:42:14.875201Z",
     "shell.execute_reply.started": "2023-11-07T10:42:01.503132Z"
    },
    "scrolled": true
   },
   "outputs": [],
   "source": [
    "from super_gradients.training import models\n",
    "\n",
    "model = models.get('yolo_nas_s', \n",
    "                       num_classes=8,\n",
    "                       checkpoint_path=MODEL_PATH + 'yolo_nas_s_e50_average_model.pth')\n",
    "model.to('cuda')"
   ]
  },
  {
   "cell_type": "code",
   "execution_count": 5,
   "metadata": {
    "execution": {
     "iopub.execute_input": "2023-11-07T10:42:14.877894Z",
     "iopub.status.busy": "2023-11-07T10:42:14.877566Z",
     "iopub.status.idle": "2023-11-07T10:42:15.125157Z",
     "shell.execute_reply": "2023-11-07T10:42:15.124697Z",
     "shell.execute_reply.started": "2023-11-07T10:42:14.877865Z"
    }
   },
   "outputs": [
    {
     "data": {
      "text/plain": [
       "0"
      ]
     },
     "execution_count": 5,
     "metadata": {},
     "output_type": "execute_result"
    }
   ],
   "source": [
    "img_id_dict = dict()\n",
    "\n",
    "with open(PROJECT_PATH + 'test.json', \"r\") as f:\n",
    "    label_coco = json.load(f)\n",
    "\n",
    "for val in label_coco['images']:\n",
    "    img_id_dict[val['file_name']] = val['id']\n",
    "\n",
    "img_id_dict['test_0.png']"
   ]
  },
  {
   "cell_type": "code",
   "execution_count": 6,
   "metadata": {
    "execution": {
     "iopub.execute_input": "2023-11-07T10:42:15.126828Z",
     "iopub.status.busy": "2023-11-07T10:42:15.126441Z",
     "iopub.status.idle": "2023-11-07T10:42:15.130508Z",
     "shell.execute_reply": "2023-11-07T10:42:15.130223Z",
     "shell.execute_reply.started": "2023-11-07T10:42:15.126765Z"
    }
   },
   "outputs": [],
   "source": [
    "def quantize_model(model):\n",
    "    \n",
    "    # torch.quantization.quantize_dynamic() : \n",
    "    # 모델을 동적으로 양자화한다. 동적 양자화는 가중치를 정수로 양자화하지만, 활성화는 추론 중에 동적으로 양자화한다. \n",
    "    # model은 양자화할 모델을 나타내고 {torch.nn.Linear} 는 어떤 모델을 양자화 할지를 나타내는 구성 요소인데 여기에서는 선형 계층만 양자화 된다. \n",
    "    # dtype=torch.qint8 : 양자화된 데이터의 유형을 나타낸다. (모델의 값을 8 비트 정수로 표현)\n",
    "    quantized_model = torch.quantization.quantize_dynamic(\n",
    "        model, {torch.nn.Linear}, dtype=torch.qint8\n",
    "    )\n",
    "    return quantized_model # 양자화가 완료된 모델은 'quantized_model'로 반환"
   ]
  },
  {
   "cell_type": "code",
   "execution_count": 9,
   "metadata": {
    "execution": {
     "iopub.execute_input": "2023-11-07T10:42:15.133580Z",
     "iopub.status.busy": "2023-11-07T10:42:15.133242Z",
     "iopub.status.idle": "2023-11-07T10:42:15.353681Z",
     "shell.execute_reply": "2023-11-07T10:42:15.353287Z",
     "shell.execute_reply.started": "2023-11-07T10:42:15.133546Z"
    }
   },
   "outputs": [],
   "source": [
    "model_quantized = quantize_model(model)"
   ]
  },
  {
   "cell_type": "code",
   "execution_count": 10,
   "metadata": {
    "execution": {
     "iopub.execute_input": "2023-11-07T10:42:15.355870Z",
     "iopub.status.busy": "2023-11-07T10:42:15.355122Z",
     "iopub.status.idle": "2023-11-07T10:50:04.253691Z",
     "shell.execute_reply": "2023-11-07T10:50:04.253296Z",
     "shell.execute_reply.started": "2023-11-07T10:42:15.355832Z"
    }
   },
   "outputs": [
    {
     "name": "stderr",
     "output_type": "stream",
     "text": [
      "/home/mglee/anaconda3/envs/save/lib/python3.8/site-packages/super_gradients/training/utils/media/image.py:64: UserWarning: It seems you are using predict() with batch input\n",
      "  warnings.warn(\"It seems you are using predict() with batch input\")\n",
      "Predicting Images:   0%|                                                                        | 0/44946 [00:00<?, ?it/s]/home/mglee/anaconda3/envs/save/lib/python3.8/site-packages/numpy/lib/arraypad.py:487: VisibleDeprecationWarning: Creating an ndarray from ragged nested sequences (which is a list-or-tuple of lists-or-tuples-or ndarrays with different lengths or shapes) is deprecated. If you meant to do this, you must specify 'dtype=object' when creating the ndarray.\n",
      "  x = np.array(x)\n",
      "[2023-11-09 18:09:50] INFO - pipelines.py - Fusing some of the model's layers. If this takes too much memory, you can deactivate it by setting `fuse_model=False`\n",
      "Predicting Images: 100%|███████████████████████████████████████████████████████████| 44946/44946 [04:20<00:00, 172.46it/s]\n"
     ]
    },
    {
     "name": "stdout",
     "output_type": "stream",
     "text": [
      "472.7555754184723\n"
     ]
    }
   ],
   "source": [
    "import time\n",
    "start = time.time()\n",
    "results = model_quantized.predict(test_images, conf=0.75)\n",
    "\n",
    "print(time.time() - start)"
   ]
  },
  {
   "cell_type": "code",
   "execution_count": 11,
   "metadata": {
    "execution": {
     "iopub.execute_input": "2023-11-07T10:50:04.255545Z",
     "iopub.status.busy": "2023-11-07T10:50:04.255182Z",
     "iopub.status.idle": "2023-11-07T10:50:04.265120Z",
     "shell.execute_reply": "2023-11-07T10:50:04.264828Z",
     "shell.execute_reply.started": "2023-11-07T10:50:04.255509Z"
    }
   },
   "outputs": [],
   "source": [
    "def make_submission_yolo_nas(result, test_images, file_name):\n",
    "  with open(PROJECT_PATH + 'test.json', 'r') as f:\n",
    "      lab = json.load(f)\n",
    "    \n",
    "  # 객체가 탐지된 이미지\n",
    "  cnt = 0\n",
    "  for pred in result:\n",
    "      if len(pred.prediction.bboxes_xyxy) != 0:\n",
    "          cnt +=1\n",
    "  print('탐지된 파일 수: ',cnt)\n",
    "\n",
    "  annot = []\n",
    "\n",
    "  for img_idx, pred in tqdm(enumerate(result)):\n",
    "      if len(pred.prediction.bboxes_xyxy) != 0:\n",
    "        for i in range(len(pred.prediction.bboxes_xyxy)):\n",
    "              result_dict = dict()\n",
    "              result_dict['id'] = len(annot)\n",
    "              result_dict['image_id'] = img_id_dict[test_images[img_idx].split('/')[-1]]\n",
    "              result_dict['category_id'] = int(pred.prediction.labels[i])\n",
    "\n",
    "              #bbox\n",
    "              x = float(pred.prediction.bboxes_xyxy[i][0]) # 여기 있는 x가 x0\n",
    "              y = float(pred.prediction.bboxes_xyxy[i][1]) # y0\n",
    "              w = float(pred.prediction.bboxes_xyxy[i][2]) - x # 여기 있는게 xmax니까 x 빼주기\n",
    "              h = float(pred.prediction.bboxes_xyxy[i][3]) - y # ymax니까 y빼주기\n",
    "\n",
    "              result_dict['bbox'] = [x,y,w,h]\n",
    "              result_dict['area'] = w * h\n",
    "              annot.append(result_dict)\n",
    "  \n",
    "  lab['annotations'] = annot\n",
    "  print('탐지된 객체 수: ', len(lab['annotations']))\n",
    "  print(lab['annotations'][:3])\n",
    "  cat_list = [x['category_id'] for x in lab['annotations']]\n",
    "  display(pd.Series(cat_list).value_counts().sort_values(ascending = False))\n",
    "\n",
    "  with open(f'{SUBMIT_PATH}{file_name}', \"w\") as json_file:\n",
    "    json.dump(lab, json_file, ensure_ascii=False, indent=4)\n",
    "\n",
    "  return lab['annotations']"
   ]
  },
  {
   "cell_type": "code",
   "execution_count": 12,
   "metadata": {
    "execution": {
     "iopub.execute_input": "2023-11-07T10:50:04.267063Z",
     "iopub.status.busy": "2023-11-07T10:50:04.266743Z",
     "iopub.status.idle": "2023-11-07T10:50:05.437545Z",
     "shell.execute_reply": "2023-11-07T10:50:05.437141Z",
     "shell.execute_reply.started": "2023-11-07T10:50:04.267037Z"
    }
   },
   "outputs": [
    {
     "data": {
      "text/plain": [
       "1    1758\n",
       "3    1480\n",
       "7     639\n",
       "2     457\n",
       "5     135\n",
       "0      93\n",
       "4      83\n",
       "6      43\n",
       "dtype: int64"
      ]
     },
     "metadata": {},
     "output_type": "display_data"
    },
    {
     "name": "stdout",
     "output_type": "stream",
     "text": [
      "탐지된 파일 수:  4478\n",
      "탐지된 객체 수:  4688\n",
      "[{'id': 0, 'image_id': 0, 'category_id': 3, 'bbox': [100.0, 218.25, 357.0, 106.25], 'area': 37931.25}, {'id': 1, 'image_id': 2, 'category_id': 3, 'bbox': [0.25, 217.25, 358.75, 117.25], 'area': 42063.4375}, {'id': 2, 'image_id': 293, 'category_id': 5, 'bbox': [88.75, 256.5, 489.75, 145.5], 'area': 71258.625}]\n"
     ]
    },
    {
     "name": "stderr",
     "output_type": "stream",
     "text": [
      "\r\n",
      "0it [00:00, ?it/s]\r\n",
      "44946it [00:00, 994892.41it/s]\n"
     ]
    }
   ],
   "source": [
    "ann = make_submission_yolo_nas(results, test_images, 'yolo_nas_s_e50_c75.json')"
   ]
  },
  {
   "cell_type": "code",
   "execution_count": 25,
   "metadata": {
    "execution": {
     "iopub.execute_input": "2023-11-07T10:50:40.999601Z",
     "iopub.status.busy": "2023-11-07T10:50:40.999254Z",
     "iopub.status.idle": "2023-11-07T10:50:41.924108Z",
     "shell.execute_reply": "2023-11-07T10:50:41.923700Z",
     "shell.execute_reply.started": "2023-11-07T10:50:40.999573Z"
    }
   },
   "outputs": [
    {
     "data": {
      "text/plain": [
       "[{'id': 4685,\n",
       "  'image_id': 289,\n",
       "  'category_id': 5,\n",
       "  'bbox': [241.375, 205.0, 398.625, 151.25],\n",
       "  'area': 60292.03125},\n",
       " {'id': 4686,\n",
       "  'image_id': 3226,\n",
       "  'category_id': 3,\n",
       "  'bbox': [-0.875, 212.375, 353.125, 228.875],\n",
       "  'area': 80821.484375},\n",
       " {'id': 4687,\n",
       "  'image_id': 3227,\n",
       "  'category_id': 3,\n",
       "  'bbox': [2.25, 251.75, 537.75, 208.25],\n",
       "  'area': 111986.4375}]"
      ]
     },
     "metadata": {},
     "output_type": "display_data"
    },
    {
     "name": "stdout",
     "output_type": "stream",
     "text": [
      "3\n"
     ]
    }
   ],
   "source": [
    "with open(f'{SUBMIT_PATH}yolo_nas_s_e50_c75.json', \"r\") as json_file:\n",
    "    test_lab = json.load(json_file)\n",
    "\n",
    "print(len(test_lab))\n",
    "display(test_lab['annotations'][-3:])"
   ]
  }
 ],
 "metadata": {
  "kernelspec": {
   "display_name": "Python 3 (ipykernel)",
   "language": "python",
   "name": "python3"
  },
  "language_info": {
   "codemirror_mode": {
    "name": "ipython",
    "version": 3
   },
   "file_extension": ".py",
   "mimetype": "text/x-python",
   "name": "python",
   "nbconvert_exporter": "python",
   "pygments_lexer": "ipython3",
   "version": "3.8.15"
  }
 },
 "nbformat": 4,
 "nbformat_minor": 4
}
